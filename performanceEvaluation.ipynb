{
 "cells": [
  {
   "cell_type": "code",
   "execution_count": 1,
   "metadata": {},
   "outputs": [],
   "source": [
    "import sys\n",
    "import random\n",
    "import math\n",
    "import matplotlib.pyplot as plt\n",
    "import json\n",
    "from tqdm import tqdm\n",
    "import glob "
   ]
  },
  {
   "cell_type": "code",
   "execution_count": 2,
   "metadata": {},
   "outputs": [
    {
     "name": "stderr",
     "output_type": "stream",
     "text": [
      "Using TensorFlow backend.\n"
     ]
    }
   ],
   "source": [
    "import numpy as np\n",
    "import pandas as pd\n",
    "import tensorflow\n",
    "import cv2\n",
    "import os\n",
    "from tqdm.notebook import tqdm\n",
    "import matplotlib.pyplot as plt\n",
    "from skimage.measure import label, regionprops\n",
    "import imageai\n",
    "from imageai.Detection.Custom import CustomObjectDetection\n",
    "from imageai.Detection import ObjectDetection\n",
    "from keras.models import model_from_json\n",
    "from keras.models import load_model\n",
    "from skimage.segmentation import mark_boundaries"
   ]
  },
  {
   "cell_type": "code",
   "execution_count": 3,
   "metadata": {},
   "outputs": [],
   "source": [
    "'''utility functions for loading and saving pickle files'''\n",
    "import pickle\n",
    "def saveInPickle(data, pickleFile):\n",
    "    file = open(pickleFile,\"wb\")\n",
    "    pickle.dump(data,file)\n",
    "    file.close()\n",
    "def loadFromPickle(pickleFile):\n",
    "    file = open(pickleFile,'rb')\n",
    "    pickleData = pickle.load(file)\n",
    "    file.close()\n",
    "    return pickleData"
   ]
  },
  {
   "cell_type": "code",
   "execution_count": 28,
   "metadata": {},
   "outputs": [
    {
     "name": "stdout",
     "output_type": "stream",
     "text": [
      "yolo model loaded\n",
      "unet model loaded\n",
      "WARNING:tensorflow:From C:\\Users\\abdul wajid\\Anaconda3\\lib\\site-packages\\imageai\\Detection\\keras_retinanet\\backend\\tensorflow_backend.py:22: The name tf.image.resize_images is deprecated. Please use tf.image.resize instead.\n",
      "\n",
      "tracking <tf.Variable 'Variable:0' shape=(9, 4) dtype=float32> anchors\n",
      "tracking <tf.Variable 'Variable_1:0' shape=(9, 4) dtype=float32> anchors\n",
      "tracking <tf.Variable 'Variable_2:0' shape=(9, 4) dtype=float32> anchors\n",
      "tracking <tf.Variable 'Variable_3:0' shape=(9, 4) dtype=float32> anchors\n",
      "tracking <tf.Variable 'Variable_4:0' shape=(9, 4) dtype=float32> anchors\n",
      "WARNING:tensorflow:From C:\\Users\\abdul wajid\\Anaconda3\\lib\\site-packages\\imageai\\Detection\\keras_retinanet\\backend\\tensorflow_backend.py:46: where (from tensorflow.python.ops.array_ops) is deprecated and will be removed in a future version.\n",
      "Instructions for updating:\n",
      "Use tf.where in 2.0, which has the same broadcast rule as np.where\n",
      "retinanet model loaded\n",
      "Loaded model from disk\n"
     ]
    }
   ],
   "source": [
    "'''loading yolo model'''\n",
    "yoloModel = CustomObjectDetection()\n",
    "yoloModel.setModelTypeAsYOLOv3()\n",
    "yoloModel.setModelPath(\"yolo_detection_model-ex-001--loss-0026.385.h5\")\n",
    "yoloModel.setJsonPath(\"yolo_detection_config.json\")\n",
    "yoloModel.loadModel()\n",
    "print(\"yolo model loaded\")\n",
    "\n",
    "'''loading unet model'''\n",
    "json_file = open('unet_model.json', 'r')\n",
    "loaded_model_json = json_file.read()\n",
    "json_file.close()\n",
    "unetModel = model_from_json(loaded_model_json)\n",
    "unetModel.load_weights(\"unet_model.h5\")\n",
    "print(\"unet model loaded\")\n",
    "\n",
    "'''loading retina-net model'''\n",
    "retinanet  = ObjectDetection()\n",
    "retinanet.setModelTypeAsRetinaNet()\n",
    "retinanet.setModelPath(\"retinanet-cocoa-data.h5\")\n",
    "retinanet.loadModel()\n",
    "retinanet_customClasses = retinanet.CustomObjects(boat=True)\n",
    "print(\"retinanet model loaded\")\n",
    "\n",
    "print(\"Loaded model from disk\")"
   ]
  },
  {
   "cell_type": "code",
   "execution_count": 19,
   "metadata": {},
   "outputs": [],
   "source": [
    "'''returns bounding box coordinates from mask images'''\n",
    "def getBBoxFromMask(maskImage):\n",
    "    labels = label(maskImage) \n",
    "    coordinates = regionprops(labels)\n",
    "    return coordinates\n",
    "\n",
    "'''returns bbox for UNET'''\n",
    "def unetBBOX(imagePath):\n",
    "    image = cv2.imread(imagePath)\n",
    "    image  = cv2.resize(image, (256,256))\n",
    "    image = np.expand_dims(image, 0)/255.0\n",
    "    predictedImage = unetModel.predict(image)[0]\n",
    "    bbox = getBBoxFromMask(predictedImage[:, :, 0])\n",
    "#     bbox = getBBoxFromMask(predictedImage)\n",
    "#     cv2.rectangle(image, (bbox[0]*3, bbox[1]*3), (bbox[2]*3, bbox[3]*3), (255, 0, 0), 2)\n",
    "    bboxList = []\n",
    "    for box in bbox:\n",
    "        bboxList.append([box.bbox[1]*3, box.bbox[0]*3, box.bbox[3]*3, box.bbox[2]*3])\n",
    "        \n",
    "    return bboxList  ### return list of bounding boxes\n",
    "\n",
    "'''returns bbox for YOLO'''\n",
    "def yoloBBox(imagePath):\n",
    "    bbox = yoloModel.detectObjectsFromImage(input_image=imagePath, output_image_path=\"random.jpg\", nms_treshold=0.2)\n",
    "    bboxList = []\n",
    "    scoreList = []\n",
    "    for box in bbox:\n",
    "#         print(box)\n",
    "        bboxList.append(box[\"box_points\"])\n",
    "        scoreList.append(box[\"percentage_probability\"])\n",
    "    \n",
    "#     print(scoreList)\n",
    "    return scoreList,bboxList  ### return list of bounding boxes\n",
    "\n",
    "'''returns bbox for retinaNet'''\n",
    "def retinaBBox(imagePath):\n",
    "    bbox = retinanet.detectObjectsFromImage(input_image=imagePath, output_image_path=\"random.jpg\")\n",
    "    bboxList = []\n",
    "    scoreList = []\n",
    "#     print(bbox)\n",
    "    for box in bbox:\n",
    "        bboxList.append(box[\"box_points\"])\n",
    "        scoreList.append(box[\"percentage_probability\"])\n",
    "        \n",
    "    return scoreList, bboxList"
   ]
  },
  {
   "cell_type": "code",
   "execution_count": 11,
   "metadata": {},
   "outputs": [],
   "source": [
    "'''converts mask in image'''\n",
    "def masks_as_image(in_mask_list):\n",
    "    # Take the individual ship masks and create a single mask array for all ships\n",
    "    all_masks = np.zeros((768, 768), dtype = np.uint8)\n",
    "    for mask in in_mask_list:\n",
    "        if isinstance(mask, str):\n",
    "            all_masks |= rle_decode(mask)\n",
    "    return all_masks\n",
    "\n",
    "'''decodes RLE encoded image'''\n",
    "def rle_decode(mask_rle, shape=(768, 768)):\n",
    "    s = mask_rle.split()\n",
    "    starts, lengths = [np.asarray(x, dtype=int) for x in (s[0:][::2], s[1:][::2])]\n",
    "    starts -= 1\n",
    "    ends = starts + lengths\n",
    "    img = np.zeros(shape[0]*shape[1], dtype=np.uint8)\n",
    "    for lo, hi in zip(starts, ends):\n",
    "        img[lo:hi] = 1\n",
    "    return img.reshape(shape).T \n"
   ]
  },
  {
   "cell_type": "code",
   "execution_count": 8,
   "metadata": {},
   "outputs": [],
   "source": [
    "'''ground truth for each image'''\n",
    "annotations = pd.read_csv('train_ship_segmentations_v2.csv')"
   ]
  },
  {
   "cell_type": "code",
   "execution_count": 12,
   "metadata": {},
   "outputs": [
    {
     "name": "stdout",
     "output_type": "stream",
     "text": [
      "1988\n"
     ]
    },
    {
     "data": {
      "application/vnd.jupyter.widget-view+json": {
       "model_id": "d1c2bb996a2243a8ba549fc5020689a6",
       "version_major": 2,
       "version_minor": 0
      },
      "text/plain": [
       "HBox(children=(IntProgress(value=0, max=1988), HTML(value='')))"
      ]
     },
     "metadata": {},
     "output_type": "display_data"
    },
    {
     "name": "stdout",
     "output_type": "stream",
     "text": [
      "\n"
     ]
    }
   ],
   "source": [
    "\n",
    "'''generates list of ground truth bounding boxes for testing image'''\n",
    "\n",
    "imagesPath = \"validation\"\n",
    "gTruth_bbox_dict = {}\n",
    "for dir,_, files in os.walk(imagesPath):\n",
    "    print(len(files))\n",
    "    for i in tqdm(list(range(len(files)))):\n",
    "        imagePath = imagesPath +\"\\\\\"+ files[i]\n",
    "        image_id = files[i]\n",
    "        image = cv2.imread(imagePath)\n",
    "#         image = imread(os.path.join(train_dir, image_id))\n",
    "            \n",
    "        rle_img = annotations.query('ImageId==\"'+image_id+'\"')['EncodedPixels']\n",
    "        gt_mask = masks_as_image(rle_img)\n",
    "\n",
    "        gt_lbl = label(gt_mask) \n",
    "        props = regionprops(gt_lbl)\n",
    "        boxes = []\n",
    "        for prop in props:\n",
    "            boxes.append(prop.bbox)\n",
    "\n",
    "        gTruth_bbox_dict[image_id] = boxes"
   ]
  },
  {
   "cell_type": "code",
   "execution_count": 24,
   "metadata": {},
   "outputs": [],
   "source": [
    "'''These functions are used to get predicted bounding box list for each test image'''\n",
    "\n",
    "imagesPath = \"validation\"\n",
    "def getYoloBBOX():\n",
    "    predicted_bbox_dict = {}\n",
    "    predicted_scores = {}\n",
    "    for dir,_, files in os.walk(imagesPath):\n",
    "        print(len(files))\n",
    "        for i in tqdm(list(range(len(files)))):\n",
    "            imagePath = imagesPath +\"\\\\\"+ files[i]\n",
    "    #         print(imagePath)\n",
    "            try:\n",
    "                scoreList,bboxList = yoloBBox(imagePath)\n",
    "        #         unetBboxList = unetBBOX(imagePath)\n",
    "                predicted_bbox_dict[files[i]] = bboxList\n",
    "                predicted_scores[files[i]] = scoreList\n",
    "            except:\n",
    "                continue\n",
    "            ## use these boundign boxes as per your need\n",
    "\n",
    "    return predicted_bbox_dict, predicted_scores\n",
    "\n",
    "def getUnetBBOX():\n",
    "    predicted_bbox_dict = {}\n",
    "    for dir,_, files in os.walk(imagesPath):\n",
    "        print(len(files))\n",
    "        for i in tqdm(list(range(len(files)))):\n",
    "            imagePath = imagesPath +\"\\\\\"+ files[i]\n",
    "    #         print(imagePath)\n",
    "    #         yoloBboxList = yoloBBox(imagePath)\n",
    "            unetBboxList = unetBBOX(imagePath)\n",
    "            predicted_bbox_dict[files[i]] = unetBboxList\n",
    "            \n",
    "    return predicted_bbox_dict\n",
    "\n",
    "def getRetinaBBOX():\n",
    "    retina_predicted_bbox_dict = {}\n",
    "    retina_predicted_scores = {}\n",
    "    for dir,_, files in os.walk(imagesPath):\n",
    "#         print(len(files))\n",
    "        for i in tqdm(list(range(len(files)))):\n",
    "            imagePath = imagesPath +\"\\\\\"+ files[i]\n",
    "            scoreList,bboxList = retinaBBox(imagePath)\n",
    "            retina_predicted_bbox_dict[files[i]] = bboxList\n",
    "            retina_predicted_scores[files[i]] = scoreList\n",
    "                \n",
    "    return retina_predicted_bbox_dict, retina_predicted_scores\n"
   ]
  },
  {
   "cell_type": "code",
   "execution_count": 29,
   "metadata": {},
   "outputs": [
    {
     "data": {
      "application/vnd.jupyter.widget-view+json": {
       "model_id": "dde136769b024273ada5e8950e903bf8",
       "version_major": 2,
       "version_minor": 0
      },
      "text/plain": [
       "HBox(children=(IntProgress(value=0, max=1988), HTML(value='')))"
      ]
     },
     "metadata": {},
     "output_type": "display_data"
    },
    {
     "name": "stdout",
     "output_type": "stream",
     "text": [
      "\n"
     ]
    }
   ],
   "source": [
    "retina_predicted_bbox_dict, retina_predicted_scores = getRetinaBBOX()"
   ]
  },
  {
   "cell_type": "code",
   "execution_count": 14,
   "metadata": {},
   "outputs": [
    {
     "name": "stdout",
     "output_type": "stream",
     "text": [
      "1988\n"
     ]
    },
    {
     "data": {
      "application/vnd.jupyter.widget-view+json": {
       "model_id": "5f73cf541b774a08a6ba04215e957639",
       "version_major": 2,
       "version_minor": 0
      },
      "text/plain": [
       "HBox(children=(IntProgress(value=0, max=1988), HTML(value='')))"
      ]
     },
     "metadata": {},
     "output_type": "display_data"
    },
    {
     "name": "stdout",
     "output_type": "stream",
     "text": [
      "WARNING:tensorflow:From C:\\Users\\abdul wajid\\Anaconda3\\lib\\site-packages\\keras\\backend\\tensorflow_backend.py:422: The name tf.global_variables is deprecated. Please use tf.compat.v1.global_variables instead.\n",
      "\n",
      "\n",
      "1988\n"
     ]
    },
    {
     "data": {
      "application/vnd.jupyter.widget-view+json": {
       "model_id": "0ff65702b0f64684accacb58068013cd",
       "version_major": 2,
       "version_minor": 0
      },
      "text/plain": [
       "HBox(children=(IntProgress(value=0, max=1988), HTML(value='')))"
      ]
     },
     "metadata": {},
     "output_type": "display_data"
    },
    {
     "name": "stdout",
     "output_type": "stream",
     "text": [
      "\n"
     ]
    }
   ],
   "source": [
    "unet_predicted_bbox_dict = getUnetBBOX()\n",
    "yolo_predicted_bbox_dict, yolo_predicted_scores = getYoloBBOX()\n"
   ]
  },
  {
   "cell_type": "code",
   "execution_count": 116,
   "metadata": {},
   "outputs": [],
   "source": [
    "mrcnn_predicted_bbox_dict = loadFromPickle('pickle_Mrcnn_predicted_bbox_dict')\n",
    "mrcnn_predicted_scores = loadFromPickle('pickle_Mrcnn_predicted_scores')"
   ]
  },
  {
   "cell_type": "code",
   "execution_count": 17,
   "metadata": {},
   "outputs": [],
   "source": [
    "'''saving the predicted bbox results for future use'''\n",
    "\n",
    "saveInPickle(gTruth_bbox_dict,'pickle_gTruth_bbox_dict')\n",
    "saveInPickle(unet_predicted_bbox_dict, 'pickle_unet_predicted_bbox_dict')\n",
    "saveInPickle(yolo_predicted_bbox_dict, 'pickle_yolo_predicted_bbox_dict')\n",
    "saveInPickle(yolo_predicted_scores, 'pickle_yolo_predicted_scores')"
   ]
  },
  {
   "cell_type": "code",
   "execution_count": 30,
   "metadata": {},
   "outputs": [],
   "source": [
    "saveInPickle(retina_predicted_bbox_dict, 'pickle_retina_predicted_bbox_dict')\n",
    "saveInPickle(retina_predicted_scores, 'pickle_retina_predicted_scores')"
   ]
  },
  {
   "cell_type": "code",
   "execution_count": null,
   "metadata": {},
   "outputs": [],
   "source": []
  },
  {
   "cell_type": "code",
   "execution_count": 117,
   "metadata": {},
   "outputs": [
    {
     "name": "stdout",
     "output_type": "stream",
     "text": [
      "1988\n",
      "1988\n",
      "1977\n",
      "1988\n",
      "1988\n"
     ]
    }
   ],
   "source": [
    "print(len(gTruth_bbox_dict))\n",
    "print(len(unet_predicted_bbox_dict))\n",
    "print(len(yolo_predicted_bbox_dict))\n",
    "print(len(retina_predicted_bbox_dict))\n",
    "print(len(mrcnn_predicted_bbox_dict))\n",
    "image_list = list(yolo_predicted_bbox_dict.keys())"
   ]
  },
  {
   "cell_type": "code",
   "execution_count": 54,
   "metadata": {},
   "outputs": [],
   "source": [
    "'''utility function to calculate iou for each predicted bounding box'''\n",
    "def getClosestBoxIOU(boxes_p,box_g):\n",
    "    maxIOU = 0\n",
    "    for box_p in boxes_p:\n",
    "        max0 = max(box_g[0], box_p[0])\n",
    "        max1 = max(box_g[1], box_p[1])\n",
    "        min2 = min(box_g[2], box_p[2])\n",
    "        min3 = min(box_g[3], box_p[3])\n",
    "        \n",
    "        intersectionArea = max(0, min2 - max0 + 1) * max(0, min3 - max1 + 1)\n",
    "        box_g_Area = (box_g[2] - box_g[0] + 1) * (box_g[3] - box_g[1] + 1)\n",
    "        box_p_Area = (box_p[2] - box_p[0] + 1) * (box_p[3] - box_p[1] + 1)\n",
    "        \n",
    "        iou = intersectionArea / float(box_g_Area + box_p_Area - intersectionArea)\n",
    "        maxIOU = max(maxIOU, iou)\n",
    "    return maxIOU\n",
    "\n",
    "'''calculates Intersection Over Union for predicted bounding box.'''\n",
    "def intersectionOverUnion(predicted_bbox_dict, gTruth_bbox_dict):\n",
    "    \n",
    "    iou_dict = {}\n",
    "    for image_id in tqdm(image_list):\n",
    "        iou_dict[image_id] = []\n",
    "        \n",
    "        boxes_g = gTruth_bbox_dict[image_id]\n",
    "        boxes_p = predicted_bbox_dict[image_id]\n",
    "#         if len(boxes_g) > 1:\n",
    "#             print(\"image_id :\",image_id)\n",
    "#             print(\"boxes_g :\",boxes_g)\n",
    "#             print(\"boxes_p :\",boxes_p)\n",
    "            \n",
    "        if len(boxes_g) == 0 and len(boxes_p) == 0:\n",
    "            iou_dict[image_id].append(1)\n",
    "        elif len(boxes_g) == 0:\n",
    "            iou_dict[image_id].append(0)\n",
    "        elif len(boxes_p) == 0:\n",
    "            for i in range(len(boxes_g)):\n",
    "                iou_dict[image_id].append(0)\n",
    "        \n",
    "            \n",
    "        else:\n",
    "            for gt_box in boxes_g:\n",
    "                iou_dict[image_id].append(getClosestBoxIOU(boxes_p,gt_box))\n",
    "                \n",
    "    return iou_dict\n"
   ]
  },
  {
   "cell_type": "code",
   "execution_count": 55,
   "metadata": {},
   "outputs": [
    {
     "name": "stderr",
     "output_type": "stream",
     "text": [
      "100%|███████████████████████████████████████████████████████████████████████████| 1977/1977 [00:00<00:00, 36722.89it/s]\n",
      "100%|███████████████████████████████████████████████████████████████████████████| 1977/1977 [00:00<00:00, 73422.05it/s]\n",
      "100%|██████████████████████████████████████████████████████████████████████████| 1977/1977 [00:00<00:00, 283220.81it/s]\n"
     ]
    }
   ],
   "source": [
    "unet_iou_dict = intersectionOverUnion(unet_predicted_bbox_dict, gTruth_bbox_dict)\n",
    "yolo_iou_dict = intersectionOverUnion(yolo_predicted_bbox_dict, gTruth_bbox_dict)\n",
    "retina_iou_dict = intersectionOverUnion(retina_predicted_bbox_dict, gTruth_bbox_dict)\n",
    "# print(len(iou_dict))"
   ]
  },
  {
   "cell_type": "code",
   "execution_count": 118,
   "metadata": {},
   "outputs": [
    {
     "name": "stderr",
     "output_type": "stream",
     "text": [
      "100%|████████████████████████████████████████████████████████████████████████████| 1977/1977 [00:00<00:00, 6869.12it/s]\n"
     ]
    }
   ],
   "source": [
    "mrcnn_iou_dict = intersectionOverUnion(mrcnn_predicted_bbox_dict, gTruth_bbox_dict)"
   ]
  },
  {
   "cell_type": "code",
   "execution_count": 120,
   "metadata": {},
   "outputs": [
    {
     "name": "stdout",
     "output_type": "stream",
     "text": [
      "5232\n",
      "5201\n",
      "5201\n",
      "5201\n",
      "5201\n"
     ]
    }
   ],
   "source": [
    "Gt_bboxes_count = 0\n",
    "unet_bboxes_count = 0\n",
    "yolo_bboxes_count = 0\n",
    "retina_bboxes_count = 0\n",
    "mrcnn_bboxes_count = 0\n",
    "for image_id in gTruth_bbox_dict.keys():\n",
    "    Gt_bboxes_count += len(gTruth_bbox_dict[image_id])\n",
    "for image_id in unet_iou_dict.keys():\n",
    "    unet_bboxes_count += len(unet_iou_dict[image_id])\n",
    "for image_id in yolo_iou_dict.keys():\n",
    "    yolo_bboxes_count += len(yolo_iou_dict[image_id])\n",
    "for image_id in retina_iou_dict.keys():\n",
    "    retina_bboxes_count += len(retina_iou_dict[image_id])\n",
    "for image_id in mrcnn_iou_dict.keys():\n",
    "    mrcnn_bboxes_count += len(mrcnn_iou_dict[image_id])\n",
    "    \n",
    "print(Gt_bboxes_count)\n",
    "print(unet_bboxes_count)\n",
    "print(yolo_bboxes_count)\n",
    "print(retina_bboxes_count)\n",
    "print(mrcnn_bboxes_count)"
   ]
  },
  {
   "cell_type": "code",
   "execution_count": 122,
   "metadata": {},
   "outputs": [],
   "source": [
    "'''this function generates precision, recall for each test images and saves them in a list '''\n",
    "def evaluate(iou_dict):\n",
    "    precision_list = []\n",
    "    recall_list = []\n",
    "    iou_list = []\n",
    "    tp_acc = 0\n",
    "    fp_acc = 0\n",
    "\n",
    "\n",
    "    scoreTpFp_df = pd.DataFrame(columns=['imageId', 'TP', 'FP'])\n",
    "    for img_id in tqdm(iou_dict.keys()):\n",
    "    #     if len(predicted_scores[img_id]) > 0:\n",
    "        for i in range(len(iou_dict[img_id])):\n",
    "            tp, fp = 0, 0\n",
    "    #         score = predicted_scores[img_id][i]\n",
    "            if iou_dict[img_id][i] >= 0.50:\n",
    "                tp=1\n",
    "            else:\n",
    "                fp=1\n",
    "\n",
    "            iou_list.append(iou_dict[img_id][i])\n",
    "            arr = pd.Series([img_id, tp, fp], index = scoreTpFp_df.columns)\n",
    "            scoreTpFp_df = scoreTpFp_df.append(arr, ignore_index=True)\n",
    "\n",
    "    # scoreTpFp_df.sort_values('score', axis = 0, ascending = False,inplace = True) \n",
    "    # print(scoreTpFp_df.shape)\n",
    "\n",
    "    Precision_Recall_df = pd.DataFrame(columns=['imageId', 'TP', 'FP','TP_Acc','FP_Acc','Precision','Recall'])\n",
    "    for index, row in tqdm(scoreTpFp_df.iterrows(), total=scoreTpFp_df.shape[0]):\n",
    "    #     print(row['c1'], row['c2'])\n",
    "        img_id = row['imageId']\n",
    "    #     score = row['score']\n",
    "        tp = row['TP']\n",
    "        fp = row['FP']\n",
    "        if tp==1:\n",
    "            tp_acc += 1\n",
    "        if fp==1:\n",
    "            fp_acc += 1\n",
    "        precision = tp_acc / (tp_acc+fp_acc)\n",
    "        recall = tp_acc / Gt_bboxes_count\n",
    "        precision_list.append(precision)\n",
    "        recall_list.append(recall)\n",
    "        arr = pd.Series([img_id, tp, fp, tp_acc, fp_acc, precision, recall], index = Precision_Recall_df.columns)\n",
    "        Precision_Recall_df = Precision_Recall_df.append(arr, ignore_index=True)\n",
    "        \n",
    "    return Precision_Recall_df, iou_list"
   ]
  },
  {
   "cell_type": "code",
   "execution_count": 128,
   "metadata": {},
   "outputs": [],
   "source": [
    "'''plots comparison graph for retina, yolo, unet'''\n",
    "def scatter_plot(g1y,g1x,g2y,g2x,g3y,g3x,g4y,g4x,xlabel,ylabel,title):\n",
    "    plt.plot(g3x,g3y ,label='retina', marker='.',linewidth=.5, color = 'blue')\n",
    "    plt.plot(g2x,g2y ,label='yolo', marker='.',linewidth=.5, color = 'green')\n",
    "    plt.plot(g1x,g1y ,label='unet', marker='.',linewidth=.5, color = 'red')\n",
    "#     plt.plot(g4x,g4y ,label='mrcnn', marker='.',linewidth=.5, color = 'yellow')\n",
    "    \n",
    "    plt.xlabel(xlabel)\n",
    "    plt.ylabel(ylabel)\n",
    "    plt.title(title)\n",
    "    plt.legend()\n",
    "    plt.show()"
   ]
  },
  {
   "cell_type": "code",
   "execution_count": 124,
   "metadata": {},
   "outputs": [],
   "source": [
    "'''this function generates final precision, recall, f1Score for each model and generates relevant graphs '''\n",
    "def eval_metrics(unet_df, yolo_df, retina_df, mrcnn_df, unet_iou_list, yolo_iou_list, retina_iou_list, mrcnn_iou_list):\n",
    "    eval_dict = {}\n",
    "    eval_dict['unet'],eval_dict['yolo'], eval_dict['retina'], eval_dict['mrcnn'] = {}, {}, {}, {}\n",
    "    \n",
    "    unet_precision_list = unet_df['Precision']\n",
    "    unet_precision = unet_precision_list[len(unet_precision_list)-1]\n",
    "    unet_recall_list = unet_df['Recall']\n",
    "    unet_recall = unet_recall_list[len(unet_recall_list)-1]\n",
    "    unet_f1Score = 2*unet_precision*unet_recall / (unet_precision + unet_recall)\n",
    "    eval_dict['unet']['precision'] = unet_precision\n",
    "    eval_dict['unet']['recall'] = unet_recall\n",
    "    eval_dict['unet']['f1score'] = unet_f1Score\n",
    "    print(unet_precision,unet_recall,unet_f1Score)\n",
    "    \n",
    "    yolo_precision_list = yolo_df['Precision']\n",
    "    yolo_precision = yolo_precision_list[len(yolo_precision_list)-1]\n",
    "    yolo_recall_list = yolo_df['Recall']\n",
    "    yolo_recall = yolo_recall_list[len(yolo_recall_list)-1]\n",
    "    yolo_f1Score = 2*yolo_precision*yolo_recall / (yolo_precision + yolo_recall)\n",
    "    eval_dict['yolo']['precision'] = yolo_precision\n",
    "    eval_dict['yolo']['recall'] = yolo_recall\n",
    "    eval_dict['yolo']['f1score'] = yolo_f1Score\n",
    "    print(yolo_precision,yolo_recall,yolo_f1Score)\n",
    "    \n",
    "    retina_precision_list = retina_df['Precision']\n",
    "    retina_precision = retina_precision_list[len(retina_precision_list)-1]\n",
    "    retina_recall_list = retina_df['Recall']\n",
    "    retina_recall = retina_recall_list[len(retina_recall_list)-1]\n",
    "    retina_f1Score = 2*retina_precision*retina_recall / (retina_precision + retina_recall)\n",
    "    eval_dict['retina']['precision'] = retina_precision\n",
    "    eval_dict['retina']['recall'] = retina_recall\n",
    "    eval_dict['retina']['f1score'] = retina_f1Score\n",
    "    print(retina_precision,retina_recall,retina_f1Score)\n",
    "    \n",
    "    mrcnn_precision_list = mrcnn_df['Precision']\n",
    "    mrcnn_precision = mrcnn_precision_list[len(mrcnn_precision_list)-1]\n",
    "    mrcnn_recall_list = mrcnn_df['Recall']\n",
    "    mrcnn_recall = mrcnn_recall_list[len(mrcnn_recall_list)-1]\n",
    "    mrcnn_f1Score = 2*mrcnn_precision*mrcnn_recall / (mrcnn_precision + mrcnn_recall)\n",
    "    eval_dict['mrcnn']['precision'] = mrcnn_precision\n",
    "    eval_dict['mrcnn']['recall'] = mrcnn_recall\n",
    "    eval_dict['mrcnn']['f1score'] = mrcnn_f1Score\n",
    "    print(mrcnn_precision,mrcnn_recall,mrcnn_f1Score)\n",
    "    \n",
    "    '''plotting graph'''\n",
    "    scatter_plot(unet_precision_list,unet_recall_list,yolo_precision_list,yolo_recall_list,retina_precision_list,retina_recall_list,mrcnn_precision_list,mrcnn_recall_list,'recall','precision',\"precision recall curve\")\n",
    "    scatter_plot(unet_precision_list,unet_iou_list,yolo_precision_list,yolo_iou_list,retina_precision_list, retina_iou_list,mrcnn_precision_list, mrcnn_iou_list,'IOU','precision','IOU precision curve')\n",
    "    scatter_plot(unet_recall_list,unet_iou_list,yolo_recall_list,yolo_iou_list,retina_recall_list, retina_iou_list,mrcnn_recall_list, mrcnn_iou_list,'IOU','recall','IOU recall curve')\n",
    "\n",
    "    return eval_dict"
   ]
  },
  {
   "cell_type": "code",
   "execution_count": 121,
   "metadata": {},
   "outputs": [
    {
     "name": "stderr",
     "output_type": "stream",
     "text": [
      "100%|█████████████████████████████████████████████████████████████████████████████| 1977/1977 [00:12<00:00, 163.09it/s]\n",
      "100%|█████████████████████████████████████████████████████████████████████████████| 5201/5201 [00:15<00:00, 334.97it/s]\n",
      "100%|█████████████████████████████████████████████████████████████████████████████| 1977/1977 [00:11<00:00, 169.77it/s]\n",
      "100%|█████████████████████████████████████████████████████████████████████████████| 5201/5201 [00:16<00:00, 312.06it/s]\n",
      "100%|█████████████████████████████████████████████████████████████████████████████| 1977/1977 [00:12<00:00, 155.90it/s]\n",
      "100%|█████████████████████████████████████████████████████████████████████████████| 5201/5201 [00:16<00:00, 316.65it/s]\n",
      "100%|█████████████████████████████████████████████████████████████████████████████| 1977/1977 [00:10<00:00, 179.82it/s]\n",
      "100%|█████████████████████████████████████████████████████████████████████████████| 5201/5201 [00:16<00:00, 310.60it/s]\n"
     ]
    }
   ],
   "source": [
    "unet_df, unet_iou_list = evaluate(unet_iou_dict)\n",
    "yolo_df, yolo_iou_list = evaluate(yolo_iou_dict)\n",
    "retina_df, retina_iou_list = evaluate(retina_iou_dict)\n",
    "mrcnn_df, mrcnn_iou_list = evaluate(mrcnn_iou_dict)"
   ]
  },
  {
   "cell_type": "code",
   "execution_count": 59,
   "metadata": {},
   "outputs": [
    {
     "name": "stdout",
     "output_type": "stream",
     "text": [
      "(5201, 7)\n",
      "(5201, 7)\n",
      "(5201, 7)\n"
     ]
    }
   ],
   "source": [
    "print(unet_df.shape)\n",
    "print(yolo_df.shape)\n",
    "print(retina_df.shape)"
   ]
  },
  {
   "cell_type": "code",
   "execution_count": 129,
   "metadata": {},
   "outputs": [
    {
     "name": "stdout",
     "output_type": "stream",
     "text": [
      "0.009421265141318977 0.009365443425076453 0.00939327135052238\n",
      "0.01634301095943088 0.01624617737003058 0.016294450301926576\n",
      "0.005383580080753701 0.005351681957186544 0.005367583628869931\n",
      "0.6002691790040376 0.5967125382262997 0.5984855746189973\n"
     ]
    },
    {
     "data": {
      "image/png": "[encoded data removed]",
      "text/plain": [
       "<Figure size 432x288 with 1 Axes>"
      ]
     },
     "metadata": {
      "needs_background": "light"
     },
     "output_type": "display_data"
    },
    {
     "data": {
      "image/png": "[encoded data removed]",
      "text/plain": [
       "<Figure size 432x288 with 1 Axes>"
      ]
     },
     "metadata": {
      "needs_background": "light"
     },
     "output_type": "display_data"
    },
    {
     "data": {
      "image/png": "[encoded data removed]",
      "text/plain": [
       "<Figure size 432x288 with 1 Axes>"
      ]
     },
     "metadata": {
      "needs_background": "light"
     },
     "output_type": "display_data"
    }
   ],
   "source": [
    "eval_dict = eval_metrics(unet_df, yolo_df, retina_df, mrcnn_df, unet_iou_list, yolo_iou_list, retina_iou_list, mrcnn_iou_list)"
   ]
  },
  {
   "cell_type": "code",
   "execution_count": null,
   "metadata": {},
   "outputs": [],
   "source": []
  }
 ],
 "metadata": {
  "kernelspec": {
   "display_name": "Python 3",
   "language": "python",
   "name": "python3"
  },
  "language_info": {
   "codemirror_mode": {
    "name": "ipython",
    "version": 3
   },
   "file_extension": ".py",
   "mimetype": "text/x-python",
   "name": "python",
   "nbconvert_exporter": "python",
   "pygments_lexer": "ipython3",
   "version": "3.7.4"
  }
 },
 "nbformat": 4,
 "nbformat_minor": 2
}
